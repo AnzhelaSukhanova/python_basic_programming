{
 "cells": [
  {
   "cell_type": "code",
   "execution_count": 268,
   "metadata": {},
   "outputs": [],
   "source": [
    "import numpy as np\n",
    "import cv2\n",
    "import matplotlib.pyplot as plt"
   ]
  },
  {
   "cell_type": "code",
   "execution_count": 269,
   "metadata": {},
   "outputs": [],
   "source": [
    "height, width = img1.shape[:2]\n",
    "img1 = cv2.imread('img.jpg')\n",
    "img2 = cv2.Canny(img1, 100, 200)\n",
    "img2.resize(height, width, 1)\n",
    "img2 = np.tile(img2, (1, 1, 3))\n",
    "kernel = np.ones((5, 5), np.float32) / 25\n",
    "img3 = cv2.filter2D(img1, -1, kernel)\n",
    "img4 = cv2.GaussianBlur(img1, (5,5), 0)\n",
    "mykernel = np.random.randint(-1, 3, 10)\n",
    "img5 = cv2.filter2D(img1, -1, mykernel)\n",
    "img6 = np.random.randint(0, 255, (height // 4, width // 4, 3))"
   ]
  },
  {
   "cell_type": "code",
   "execution_count": 270,
   "metadata": {},
   "outputs": [],
   "source": [
    "img2 = cv2.resize(img2, (width // 2, height // 2), interpolation=cv2.INTER_AREA)\n",
    "img3 = cv2.resize(img3, (width // 4, height // 4), interpolation=cv2.INTER_AREA)\n",
    "img4 = cv2.resize(img4, (width // 4, height // 4), interpolation=cv2.INTER_AREA)\n",
    "img5 = cv2.resize(img5, (width // 4, height // 4), interpolation=cv2.INTER_AREA)\n",
    "img6 = cv2.resize(img6, (width // 4, height // 4), interpolation=cv2.INTER_AREA)"
   ]
  },
  {
   "cell_type": "code",
   "execution_count": 271,
   "metadata": {},
   "outputs": [],
   "source": [
    "img = np.zeros((height, width // 2 * 3, 3), np.uint8)\n",
    "img[:, : width] = img1\n",
    "img[: height // 2, width :] = img2\n",
    "img[height // 2 : height // 4 * 3, width : width // 4 * 5] = img3\n",
    "img[height // 2 : height // 4 * 3, width // 4 * 5 :] = img4\n",
    "img[height // 4 * 3 :, width : width // 4 * 5] = img5\n",
    "img[height // 4 * 3 :, width // 4 * 5 :] = img6\n"
   ]
  },
  {
   "cell_type": "code",
   "execution_count": 272,
   "metadata": {},
   "outputs": [
    {
     "data": {
      "text/plain": [
       "True"
      ]
     },
     "execution_count": 272,
     "metadata": {},
     "output_type": "execute_result"
    }
   ],
   "source": [
    "cv2.imwrite('result.jpg', img)"
   ]
  }
 ],
 "metadata": {
  "kernelspec": {
   "display_name": "Python 3",
   "language": "python",
   "name": "python3"
  },
  "language_info": {
   "codemirror_mode": {
    "name": "ipython",
    "version": 3
   },
   "file_extension": ".py",
   "mimetype": "text/x-python",
   "name": "python",
   "nbconvert_exporter": "python",
   "pygments_lexer": "ipython3",
   "version": "3.7.6"
  }
 },
 "nbformat": 4,
 "nbformat_minor": 4
}
